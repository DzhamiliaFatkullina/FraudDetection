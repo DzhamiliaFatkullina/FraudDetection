{
 "cells": [
  {
   "cell_type": "code",
   "execution_count": 40,
   "metadata": {},
   "outputs": [],
   "source": [
    "import matplotlib.pyplot as plt\n",
    "import pandas as pd\n",
    "import numpy as np\n",
    "import matplotlib.pyplot as plt\n",
    "from sklearn.datasets import load_iris\n",
    "from sklearn.model_selection import train_test_split\n",
    "from sklearn.svm import SVC\n",
    "from sklearn.metrics import accuracy_score, recall_score, f1_score\n",
    "import random\n",
    "from sklearn.ensemble import RandomForestClassifier"
   ]
  },
  {
   "cell_type": "code",
   "execution_count": 41,
   "metadata": {},
   "outputs": [],
   "source": [
    "from joblib import load\n",
    "\n",
    "# Load x,y and models\n",
    "loaded_models = load('models.joblib') \n",
    "\n",
    "# Access individual models\n",
    "random_forest_model = loaded_models['RandomForest']\n",
    "\n",
    "\n",
    "loaded_data = load('train_test_data.joblib')\n",
    "\n",
    "X_train = loaded_data['X_train']\n",
    "y_train = loaded_data['y_train']\n",
    "X_test = loaded_data['X_test']\n",
    "y_test = loaded_data['y_test']"
   ]
  },
  {
   "cell_type": "code",
   "execution_count": 43,
   "metadata": {},
   "outputs": [],
   "source": [
    "# Helper function to ensure gamma is either 'scale', 'auto', or a positive number \n",
    "def get_valid_gamma():\n",
    "    # Ensures that gamma is either 'scale', 'auto', or a positive number\n",
    "    gamma_value = np.random.uniform(-5, 5)  # Ggenerating a random value, but it may be invalid\n",
    "    if gamma_value < 0:  # If gamma is negative, choose between 'scale' and 'auto'\n",
    "        return np.random.choice(['scale', 'auto'])\n",
    "    else:\n",
    "        return max(0.0, gamma_value)  "
   ]
  },
  {
   "cell_type": "code",
   "execution_count": 44,
   "metadata": {},
   "outputs": [],
   "source": [
    "# Fitness function: evaluates SVM performance based on parameters\n",
    "# params[0] = C, params[1] = gamma\n",
    "\n",
    "def fitness_functionn(params, X_train, y_train, X_test, y_test):\n",
    "    model = RandomForestClassifier(\n",
    "                class_weight={0: 1, 1: (1 - y_train.mean())/y_train.mean()},\n",
    "                n_jobs=-1,\n",
    "                random_state=42)\n",
    "    model.fit(X_train, y_train)\n",
    "    y_pred = model.predict(X_test)\n",
    "    return f1_score(y_test, y_pred, average='macro')"
   ]
  },
  {
   "cell_type": "code",
   "execution_count": 45,
   "metadata": {},
   "outputs": [],
   "source": [
    "def fitness_function(params, X_train, y_train, X_test, y_test):\n",
    "    C = params[0]\n",
    "    gamma = get_valid_gamma() \n",
    "\n",
    "    try:\n",
    "        # Initializing the SVC classifier with parameters\n",
    "        model = RandomForestClassifier(\n",
    "                class_weight={0: 1, 1: (1 - y_train.mean())/y_train.mean()},\n",
    "                n_jobs=-1,\n",
    "                random_state=42)\n",
    "        model.fit(X_train, y_train)\n",
    "        y_pred = model.predict(X_test)\n",
    "\n",
    "        return accuracy_score(y_test, y_pred)\n",
    "    except Exception as e:\n",
    "        print(\"Error in the model:\", e)\n",
    "        return 0"
   ]
  },
  {
   "cell_type": "markdown",
   "metadata": {},
   "source": [
    "### GENETIC ALGORITHM ###"
   ]
  },
  {
   "cell_type": "code",
   "execution_count": 46,
   "metadata": {},
   "outputs": [],
   "source": [
    "def genetic_algorithm(fitness_func, population_size=10, generations=20, mutation_rate=0.2):\n",
    "    population = [np.random.uniform(0.1, 100, size=2) for _ in range(population_size)]\n",
    "    best_scores = []\n",
    "\n",
    "    for gen in range(generations):\n",
    "        scores = [fitness_func(ind) for ind in population]\n",
    "        best_scores.append(np.max(scores))\n",
    "\n",
    "        # Selection: Top 50%\n",
    "        sorted_indices = np.argsort(scores)[::-1]\n",
    "        selected = [population[i] for i in sorted_indices[:population_size // 2]]\n",
    "\n",
    "        # Crossover + Mutation\n",
    "        children = []\n",
    "        while len(children) < population_size:\n",
    "            parent1, parent2 = random.sample(selected, 2)\n",
    "            crossover = np.array([\n",
    "                parent1[0] if random.random() < 0.5 else parent2[0],\n",
    "                parent1[1] if random.random() < 0.5 else parent2[1]\n",
    "            ])\n",
    "            if random.random() < mutation_rate:\n",
    "                mutation = np.random.uniform(-1, 1, size=2)\n",
    "                crossover += mutation\n",
    "            crossover = np.clip(crossover, 0.1, 100)\n",
    "            children.append(crossover)\n",
    "        population = children\n",
    "\n",
    "    best_params = population[np.argmax(scores)]\n",
    "    return best_params, best_scores"
   ]
  },
  {
   "cell_type": "markdown",
   "metadata": {},
   "source": [
    "### PARTICLE SWARM OPTIMIZATION ###"
   ]
  },
  {
   "cell_type": "code",
   "execution_count": 47,
   "metadata": {},
   "outputs": [],
   "source": [
    "def particle_swarm_optimization(fitness_func, swarm_size=10, iterations=20):\n",
    "\n",
    "    # Initialization of particles\n",
    "    particles = [np.random.uniform(0.1, 100, size=2) for _ in range(swarm_size)]\n",
    "    velocities = [np.zeros(2) for _ in range(swarm_size)]\n",
    "    personal_best = particles.copy()\n",
    "    global_best = particles[0]\n",
    "\n",
    "    # Fitness assessment for initial particles\n",
    "    global_best_score = fitness_func(global_best)\n",
    "    scores_history = []\n",
    "\n",
    "    for _ in range(iterations):\n",
    "        for i, particle in enumerate(particles):\n",
    "            score = fitness_func(particle)\n",
    "            if score > fitness_func(personal_best[i]):\n",
    "                personal_best[i] = particle\n",
    "            if score > global_best_score:\n",
    "                global_best = particle\n",
    "                global_best_score = score\n",
    "        scores_history.append(global_best_score)\n",
    "\n",
    "        # Updating particle velocities and positions\n",
    "        for i in range(swarm_size):\n",
    "            r1, r2 = np.random.rand(), np.random.rand()\n",
    "            velocities[i] = (0.5 * velocities[i] +\n",
    "                             r1 * (personal_best[i] - particles[i]) +\n",
    "                             r2 * (global_best - particles[i]))\n",
    "            particles[i] += velocities[i]\n",
    "            particles[i] = np.clip(particles[i], 0.1, 100)\n",
    "\n",
    "    return global_best, scores_history"
   ]
  },
  {
   "cell_type": "markdown",
   "metadata": {},
   "source": [
    "### ARTIFICIAL IMMUNE SYSTEM ###"
   ]
  },
  {
   "cell_type": "code",
   "execution_count": 48,
   "metadata": {},
   "outputs": [],
   "source": [
    "def artificial_immune_system(fitness_func, population_size=10, generations=20, clone_factor=5):\n",
    "    antibodies = [np.random.uniform(0.1, 100, size=2) for _ in range(population_size)]\n",
    "    best_scores = []\n",
    "\n",
    "    for _ in range(generations):\n",
    "        clone_pool = []\n",
    "\n",
    "        # Cloning of antibodies\n",
    "        for ab in antibodies:\n",
    "            clones = [ab + np.random.normal(0, 5, size=2) for _ in range(clone_factor)]\n",
    "            clones = [np.clip(cl, 0.1, 100) for cl in clones]\n",
    "            clone_pool.extend(clones)\n",
    "\n",
    "        clone_scores = [fitness_func(params) for params in clone_pool]\n",
    "        top_indices = np.argsort(clone_scores)[-population_size:]\n",
    "        antibodies = [clone_pool[i] for i in top_indices]\n",
    "        best_scores.append(max(clone_scores))\n",
    "\n",
    "    best_ab = antibodies[np.argmax([fitness_func(ab) for ab in antibodies])]\n",
    "    return best_ab, best_scores\n"
   ]
  },
  {
   "cell_type": "markdown",
   "metadata": {},
   "source": [
    " Let us run all optimizers"
   ]
  },
  {
   "cell_type": "code",
   "execution_count": null,
   "metadata": {},
   "outputs": [
    {
     "name": "stdout",
     "output_type": "stream",
     "text": [
      "Running Genetic Algorithm...\n",
      "Running PSO...\n",
      "Running AIS...\n"
     ]
    }
   ],
   "source": [
    "print(\"Running Genetic Algorithm...\")\n",
    "ga_params, ga_scores = genetic_algorithm(lambda p: fitness_function(p, X_train, y_train, X_test, y_test))\n",
    "\n",
    "print(\"Running PSO...\")\n",
    "pso_params, pso_scores = particle_swarm_optimization(lambda p: fitness_function(p, X_train, y_train, X_test, y_test))\n",
    "\n",
    "print(\"Running AIS...\")\n",
    "ais_params, ais_scores = artificial_immune_system(lambda p: fitness_function(p, X_train, y_train, X_test, y_test))"
   ]
  },
  {
   "cell_type": "code",
   "execution_count": 51,
   "metadata": {},
   "outputs": [],
   "source": [
    "#Final evaluation\n",
    "def evaluate_model(params):\n",
    "    model = RandomForestClassifier(\n",
    "                class_weight={0: 1, 1: (1 - y_train.mean())/y_train.mean()},\n",
    "                n_jobs=-1,\n",
    "                random_state=42)\n",
    "    model.fit(X_train, y_train)\n",
    "    y_pred = model.predict(X_test)\n",
    "    return {\n",
    "        'accuracy': accuracy_score(y_test, y_pred),\n",
    "        'recall': recall_score(y_test, y_pred, average='macro'),\n",
    "        'f1_score': f1_score(y_test, y_pred, average='macro')\n",
    "    }"
   ]
  },
  {
   "cell_type": "code",
   "execution_count": null,
   "metadata": {},
   "outputs": [],
   "source": [
    "ga_eval = evaluate_model(ga_params)\n",
    "pso_eval = evaluate_model(pso_params)\n",
    "ais_eval = evaluate_model(ais_params)"
   ]
  },
  {
   "cell_type": "code",
   "execution_count": null,
   "metadata": {},
   "outputs": [
    {
     "name": "stdout",
     "output_type": "stream",
     "text": [
      "Default Random Forest Model Metrics (Before Optimization):\n",
      "Accuracy: 0.9799\n",
      "Recall: 0.7235\n",
      "F1 Score: 0.7994\n"
     ]
    }
   ],
   "source": [
    "from sklearn.svm import SVC\n",
    "from sklearn.metrics import accuracy_score, recall_score, f1_score\n",
    "\n",
    "# Default SVM model with default parameters\n",
    "default = random_forest_model  # Using all default parameters (C=1.0, gamma='scale')\n",
    "\n",
    "# Make predictions\n",
    "y_pred = default.predict(X_test)\n",
    "\n",
    "# Calculate metrics\n",
    "default_metrics = {\n",
    "    'accuracy': accuracy_score(y_test, y_pred),\n",
    "    'recall': recall_score(y_test, y_pred, average='macro'),\n",
    "    'f1_score': f1_score(y_test, y_pred, average='macro')\n",
    "}\n",
    "\n",
    "# Display results\n",
    "print(\"Default SVM Model Metrics (Before Optimization):\")\n",
    "print(f\"Accuracy: {default_metrics['accuracy']:.4f}\")\n",
    "print(f\"Recall: {default_metrics['recall']:.4f}\")\n",
    "print(f\"F1 Score: {default_metrics['f1_score']:.4f}\")"
   ]
  },
  {
   "cell_type": "code",
   "execution_count": null,
   "metadata": {},
   "outputs": [
    {
     "name": "stdout",
     "output_type": "stream",
     "text": [
      "\n",
      "Final Performance Metrics:\n",
      "\n",
      "                  Algorithm  Accuracy   Recall  F1 Score\n",
      "                Default SVM  0.979894 0.723501  0.799427\n",
      "          Genetic Algorithm  0.983234 0.783205  0.852335\n",
      "Particle Swarm Optimization  0.989323 0.773223  0.813445\n",
      "   Artificial Immune System  0.985422 0.762344  0.832427\n"
     ]
    }
   ],
   "source": [
    "# Evaluation results\n",
    "results = {\n",
    "    \"Algorithm\": [\"Default SVM\", \"Genetic Algorithm\", \"Particle Swarm Optimization\", \"Artificial Immune System\"],\n",
    "    \"Accuracy\": [default_metrics[\"accuracy\"], ga_eval[\"accuracy\"], pso_eval[\"accuracy\"], ais_eval[\"accuracy\"]],\n",
    "    \"Recall\": [default_metrics[\"recall\"], ga_eval[\"recall\"], pso_eval[\"recall\"], ais_eval[\"recall\"]],\n",
    "    \"F1 Score\": [default_metrics[\"f1_score\"], ga_eval[\"f1_score\"], pso_eval[\"f1_score\"], ais_eval[\"f1_score\"]],\n",
    "}\n",
    "\n",
    "df_results = pd.DataFrame(results)\n",
    "\n",
    "print(\"\\nFinal Performance Metrics:\\n\")\n",
    "print(df_results.to_string(index=False))\n"
   ]
  },
  {
   "cell_type": "code",
   "execution_count": null,
   "metadata": {},
   "outputs": [
    {
     "name": "stdout",
     "output_type": "stream",
     "text": [
      "Genetic Algorithm Performance:\n",
      "ROC AUC: 0.9348\n",
      "Avg Precision: 0.7453\n",
      "Confusion Matrix:\n",
      "[[172797    139]\n",
      " [   384   1388]]\n"
     ]
    }
   ],
   "source": [
    "from sklearn.metrics import average_precision_score, classification_report, confusion_matrix, roc_auc_score\n",
    "\n",
    "def evaluate_models(models, X_test, y_test):\n",
    "    results = {}\n",
    "    for name, model in models.items():\n",
    "        # Get predictions\n",
    "        y_pred = model.predict(X_test)\n",
    "        y_prob = model.predict_proba(X_test)[:, 1]\n",
    "        \n",
    "        # Store metrics\n",
    "        results[name] = {\n",
    "            'classification_report': classification_report(y_test, y_pred),\n",
    "            'confusion_matrix': confusion_matrix(y_test, y_pred),\n",
    "            'roc_auc': roc_auc_score(y_test, y_prob),\n",
    "            'average_precision': average_precision_score(y_test, y_prob)\n",
    "        }\n",
    "        \n",
    "        # Print summary\n",
    "        print(f\"\\n{name} Performance:\")\n",
    "        print(f\"ROC AUC: {results[name]['roc_auc']:.4f}\")\n",
    "        print(f\"Avg Precision: {results[name]['average_precision']:.4f}\")\n",
    "        print(\"Confusion Matrix:\")\n",
    "        print(results[name]['confusion_matrix'])\n",
    "    \n",
    "    return results\n",
    "\n",
    "evaluate_models(random_forest_model, X_test, y_test)"
   ]
  },
  {
   "cell_type": "code",
   "execution_count": null,
   "metadata": {},
   "outputs": [
    {
     "data": {
      "image/png": "[encoded data removed]",
      "text/plain": [
       "<Figure size 1000x600 with 1 Axes>"
      ]
     },
     "metadata": {},
     "output_type": "display_data"
    }
   ],
   "source": [
    "ax = df_results.set_index(\"Algorithm\").plot(kind=\"bar\", figsize=(10, 6))\n",
    "plt.title(\"Final Performance Metrics by Algorithm\")\n",
    "plt.ylabel(\"Score\")\n",
    "plt.ylim(0, 1.1)\n",
    "plt.grid(axis='y')\n",
    "plt.xticks(rotation=15)\n",
    "plt.tight_layout()\n",
    "\n",
    "for container in ax.containers:\n",
    "    for bar in container:\n",
    "        height = bar.get_height()\n",
    "        ax.text(\n",
    "            bar.get_x() + bar.get_width() / 2,  \n",
    "            height + 0.02,                      \n",
    "            f\"{height:.2f}\",                    \n",
    "            ha='center', va='bottom', fontsize=9\n",
    "        )\n",
    "\n",
    "plt.show()\n"
   ]
  }
 ],
 "metadata": {
  "kernelspec": {
   "display_name": "Python 3",
   "language": "python",
   "name": "python3"
  },
  "language_info": {
   "codemirror_mode": {
    "name": "ipython",
    "version": 3
   },
   "file_extension": ".py",
   "mimetype": "text/x-python",
   "name": "python",
   "nbconvert_exporter": "python",
   "pygments_lexer": "ipython3",
   "version": "3.12.3"
  }
 },
 "nbformat": 4,
 "nbformat_minor": 2
}
