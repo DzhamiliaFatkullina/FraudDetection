{
 "cells": [
  {
   "cell_type": "markdown",
   "metadata": {},
   "source": [
    "# Preprocessing"
   ]
  },
  {
   "cell_type": "markdown",
   "metadata": {},
   "source": [
    "Download data: Improt and unzip into a data folder"
   ]
  },
  {
   "cell_type": "code",
   "execution_count": 1,
   "metadata": {},
   "outputs": [],
   "source": [
    "# !kaggle competitions download -c ieee-fraud-detection"
   ]
  },
  {
   "cell_type": "code",
   "execution_count": 2,
   "metadata": {},
   "outputs": [],
   "source": [
    "# import zipfile\n",
    "# with zipfile.ZipFile('ieee-fraud-detection.zip', 'r') as zip_ref:\n",
    "#     zip_ref.extractall('data')"
   ]
  },
  {
   "cell_type": "code",
   "execution_count": 3,
   "metadata": {},
   "outputs": [],
   "source": [
    "import pandas as pd \n",
    "import numpy as np\n",
    "import seaborn as sns\n",
    "import matplotlib.pyplot as plt\n",
    "%matplotlib inline\n",
    "from sklearn import preprocessing\n",
    "from sklearn.model_selection import train_test_split\n",
    "from sklearn.ensemble import RandomForestClassifier, GradientBoostingClassifier\n",
    "from sklearn.svm import SVC\n",
    "from sklearn.metrics import (classification_report, confusion_matrix, \n",
    "                            roc_auc_score, average_precision_score)\n",
    "from sklearn.preprocessing import StandardScaler, OneHotEncoder, LabelEncoder\n",
    "from sklearn.compose import ColumnTransformer\n",
    "from sklearn.pipeline import Pipeline"
   ]
  },
  {
   "cell_type": "markdown",
   "metadata": {},
   "source": [
    "## What we know about the data from discussion in Kaggle?"
   ]
  },
  {
   "cell_type": "markdown",
   "metadata": {},
   "source": [
    "\n",
    "- TransactionDT: timedelta from a given reference datetime (not an actual timestamp)\n",
    "- TransactionAMT: transaction payment amount in USD\n",
    "- ProductCD: product code, the product for each transaction\n",
    "- card1 - card6: payment card information, such as card type, card category, issue bank, country, etc.\n",
    "- addr: address\n",
    "- dist: distance\n",
    "- P_ and (R__) emaildomain: purchaser and recipient email domain\n",
    "- C1-C14: counting, such as how many addresses are found to be associated with the payment card, etc. The actual meaning is masked.\n",
    "- D1-D15: timedelta, such as days between previous transaction, etc.\n",
    "- M1-M9: match, such as names on card and address, etc.\n",
    "- Vxxx: Vesta engineered rich features, including ranking, counting, and other entity relations.\n"
   ]
  },
  {
   "cell_type": "markdown",
   "metadata": {},
   "source": [
    "Turn to DataFrame"
   ]
  },
  {
   "cell_type": "code",
   "execution_count": 4,
   "metadata": {},
   "outputs": [],
   "source": [
    "train_iden_df = pd.read_csv(\"data/train_identity.csv\")\n",
    "train_trans_df = pd.read_csv(\"data/train_transaction.csv\")"
   ]
  },
  {
   "cell_type": "code",
   "execution_count": 5,
   "metadata": {},
   "outputs": [
    {
     "name": "stdout",
     "output_type": "stream",
     "text": [
      "Dimensions of the Train Identity set: (144233, 41)\n",
      "Dimensions of the Train Transaction set: (590540, 394)\n"
     ]
    }
   ],
   "source": [
    "print('Dimensions of the Train Identity set:',train_iden_df.shape)\n",
    "print('Dimensions of the Train Transaction set:',train_trans_df.shape)"
   ]
  },
  {
   "cell_type": "code",
   "execution_count": 6,
   "metadata": {},
   "outputs": [
    {
     "name": "stdout",
     "output_type": "stream",
     "text": [
      "All Transactions IDs from transaction dataset are in identity dataset: True\n"
     ]
    }
   ],
   "source": [
    "print('All Transactions IDs from transaction dataset are in identity dataset: ', end= '')\n",
    "if (np.sum(train_trans_df['TransactionID'].isin(train_iden_df['TransactionID'].unique())) - train_iden_df.shape[0]) == 0:\n",
    "    print('True')\n",
    "else:\n",
    "    print('False')"
   ]
  },
  {
   "cell_type": "markdown",
   "metadata": {},
   "source": [
    "## Additional Analisys"
   ]
  },
  {
   "cell_type": "markdown",
   "metadata": {},
   "source": [
    "### Explore columns data"
   ]
  },
  {
   "cell_type": "code",
   "execution_count": 7,
   "metadata": {},
   "outputs": [
    {
     "name": "stdout",
     "output_type": "stream",
     "text": [
      "Train Dataset shape:  (590540, 434)\n"
     ]
    }
   ],
   "source": [
    "train_df=pd.merge(train_trans_df,train_iden_df,how=\"left\",on=\"TransactionID\") # merge df by left\n",
    "print(\"Train Dataset shape: \", train_df.shape)"
   ]
  },
  {
   "cell_type": "code",
   "execution_count": 8,
   "metadata": {},
   "outputs": [
    {
     "name": "stdout",
     "output_type": "stream",
     "text": [
      "        card1  card2  card3       card4  card5   card6\n",
      "0       13926    NaN  150.0    discover  142.0  credit\n",
      "1        2755  404.0  150.0  mastercard  102.0  credit\n",
      "2        4663  490.0  150.0        visa  166.0   debit\n",
      "3       18132  567.0  150.0  mastercard  117.0   debit\n",
      "4        4497  514.0  150.0  mastercard  102.0  credit\n",
      "...       ...    ...    ...         ...    ...     ...\n",
      "590535   6550    NaN  150.0        visa  226.0   debit\n",
      "590536  10444  225.0  150.0  mastercard  224.0   debit\n",
      "590537  12037  595.0  150.0  mastercard  224.0   debit\n",
      "590538   7826  481.0  150.0  mastercard  224.0   debit\n",
      "590539  15066  170.0  150.0  mastercard  102.0  credit\n",
      "\n",
      "[590540 rows x 6 columns]\n"
     ]
    }
   ],
   "source": [
    "columns_to_print = ['card1','card2','card3','card4','card5','card6']\n",
    "values = train_df[columns_to_print]\n",
    "print(values)"
   ]
  },
  {
   "cell_type": "code",
   "execution_count": 9,
   "metadata": {},
   "outputs": [
    {
     "name": "stdout",
     "output_type": "stream",
     "text": [
      "         C1   C2   C3   C4   C5   C6   C7   C8   C9  C10  C11  C12   C13  C14\n",
      "0       1.0  1.0  0.0  0.0  0.0  1.0  0.0  0.0  1.0  0.0  2.0  0.0   1.0  1.0\n",
      "1       1.0  1.0  0.0  0.0  0.0  1.0  0.0  0.0  0.0  0.0  1.0  0.0   1.0  1.0\n",
      "2       1.0  1.0  0.0  0.0  0.0  1.0  0.0  0.0  1.0  0.0  1.0  0.0   1.0  1.0\n",
      "3       2.0  5.0  0.0  0.0  0.0  4.0  0.0  0.0  1.0  0.0  1.0  0.0  25.0  1.0\n",
      "4       1.0  1.0  0.0  0.0  0.0  1.0  0.0  1.0  0.0  1.0  1.0  0.0   1.0  1.0\n",
      "...     ...  ...  ...  ...  ...  ...  ...  ...  ...  ...  ...  ...   ...  ...\n",
      "590535  2.0  1.0  0.0  0.0  1.0  0.0  0.0  0.0  2.0  0.0  1.0  0.0   3.0  2.0\n",
      "590536  1.0  1.0  0.0  0.0  0.0  1.0  0.0  0.0  1.0  0.0  1.0  0.0   1.0  1.0\n",
      "590537  1.0  1.0  0.0  0.0  1.0  1.0  0.0  0.0  1.0  0.0  1.0  0.0   1.0  1.0\n",
      "590538  1.0  1.0  0.0  0.0  0.0  3.0  0.0  0.0  2.0  0.0  1.0  1.0   5.0  1.0\n",
      "590539  2.0  1.0  0.0  0.0  1.0  1.0  0.0  0.0  2.0  0.0  1.0  0.0   1.0  1.0\n",
      "\n",
      "[590540 rows x 14 columns]\n"
     ]
    }
   ],
   "source": [
    "columns_address = ['C1', 'C2','C3','C4','C5','C6','C7','C8','C9','C10','C11','C12','C13','C14']\n",
    "found_address = train_df[columns_address]\n",
    "print(found_address)"
   ]
  },
  {
   "cell_type": "code",
   "execution_count": 10,
   "metadata": {},
   "outputs": [
    {
     "data": {
      "text/html": [
       "<div>\n",
       "<style scoped>\n",
       "    .dataframe tbody tr th:only-of-type {\n",
       "        vertical-align: middle;\n",
       "    }\n",
       "\n",
       "    .dataframe tbody tr th {\n",
       "        vertical-align: top;\n",
       "    }\n",
       "\n",
       "    .dataframe thead th {\n",
       "        text-align: right;\n",
       "    }\n",
       "</style>\n",
       "<table border=\"1\" class=\"dataframe\">\n",
       "  <thead>\n",
       "    <tr style=\"text-align: right;\">\n",
       "      <th></th>\n",
       "      <th>D1</th>\n",
       "      <th>D2</th>\n",
       "      <th>D3</th>\n",
       "      <th>D5</th>\n",
       "      <th>D15</th>\n",
       "    </tr>\n",
       "  </thead>\n",
       "  <tbody>\n",
       "    <tr>\n",
       "      <th>0</th>\n",
       "      <td>14.0</td>\n",
       "      <td>NaN</td>\n",
       "      <td>13.0</td>\n",
       "      <td>NaN</td>\n",
       "      <td>0.0</td>\n",
       "    </tr>\n",
       "    <tr>\n",
       "      <th>1</th>\n",
       "      <td>0.0</td>\n",
       "      <td>NaN</td>\n",
       "      <td>NaN</td>\n",
       "      <td>NaN</td>\n",
       "      <td>0.0</td>\n",
       "    </tr>\n",
       "    <tr>\n",
       "      <th>2</th>\n",
       "      <td>0.0</td>\n",
       "      <td>NaN</td>\n",
       "      <td>NaN</td>\n",
       "      <td>NaN</td>\n",
       "      <td>315.0</td>\n",
       "    </tr>\n",
       "    <tr>\n",
       "      <th>3</th>\n",
       "      <td>112.0</td>\n",
       "      <td>112.0</td>\n",
       "      <td>0.0</td>\n",
       "      <td>0.0</td>\n",
       "      <td>111.0</td>\n",
       "    </tr>\n",
       "    <tr>\n",
       "      <th>4</th>\n",
       "      <td>0.0</td>\n",
       "      <td>NaN</td>\n",
       "      <td>NaN</td>\n",
       "      <td>NaN</td>\n",
       "      <td>NaN</td>\n",
       "    </tr>\n",
       "    <tr>\n",
       "      <th>...</th>\n",
       "      <td>...</td>\n",
       "      <td>...</td>\n",
       "      <td>...</td>\n",
       "      <td>...</td>\n",
       "      <td>...</td>\n",
       "    </tr>\n",
       "    <tr>\n",
       "      <th>590535</th>\n",
       "      <td>29.0</td>\n",
       "      <td>29.0</td>\n",
       "      <td>30.0</td>\n",
       "      <td>NaN</td>\n",
       "      <td>56.0</td>\n",
       "    </tr>\n",
       "    <tr>\n",
       "      <th>590536</th>\n",
       "      <td>0.0</td>\n",
       "      <td>NaN</td>\n",
       "      <td>NaN</td>\n",
       "      <td>NaN</td>\n",
       "      <td>0.0</td>\n",
       "    </tr>\n",
       "    <tr>\n",
       "      <th>590537</th>\n",
       "      <td>0.0</td>\n",
       "      <td>NaN</td>\n",
       "      <td>NaN</td>\n",
       "      <td>NaN</td>\n",
       "      <td>0.0</td>\n",
       "    </tr>\n",
       "    <tr>\n",
       "      <th>590538</th>\n",
       "      <td>22.0</td>\n",
       "      <td>22.0</td>\n",
       "      <td>0.0</td>\n",
       "      <td>0.0</td>\n",
       "      <td>22.0</td>\n",
       "    </tr>\n",
       "    <tr>\n",
       "      <th>590539</th>\n",
       "      <td>0.0</td>\n",
       "      <td>NaN</td>\n",
       "      <td>0.0</td>\n",
       "      <td>0.0</td>\n",
       "      <td>1.0</td>\n",
       "    </tr>\n",
       "  </tbody>\n",
       "</table>\n",
       "<p>590540 rows × 5 columns</p>\n",
       "</div>"
      ],
      "text/plain": [
       "           D1     D2    D3   D5    D15\n",
       "0        14.0    NaN  13.0  NaN    0.0\n",
       "1         0.0    NaN   NaN  NaN    0.0\n",
       "2         0.0    NaN   NaN  NaN  315.0\n",
       "3       112.0  112.0   0.0  0.0  111.0\n",
       "4         0.0    NaN   NaN  NaN    NaN\n",
       "...       ...    ...   ...  ...    ...\n",
       "590535   29.0   29.0  30.0  NaN   56.0\n",
       "590536    0.0    NaN   NaN  NaN    0.0\n",
       "590537    0.0    NaN   NaN  NaN    0.0\n",
       "590538   22.0   22.0   0.0  0.0   22.0\n",
       "590539    0.0    NaN   0.0  0.0    1.0\n",
       "\n",
       "[590540 rows x 5 columns]"
      ]
     },
     "execution_count": 10,
     "metadata": {},
     "output_type": "execute_result"
    }
   ],
   "source": [
    "columns_transaction_day = ['D1', 'D2','D3','D5','D15']\n",
    "values_day = train_df[columns_transaction_day]\n",
    "values_day"
   ]
  },
  {
   "cell_type": "code",
   "execution_count": 11,
   "metadata": {},
   "outputs": [
    {
     "data": {
      "text/html": [
       "<div>\n",
       "<style scoped>\n",
       "    .dataframe tbody tr th:only-of-type {\n",
       "        vertical-align: middle;\n",
       "    }\n",
       "\n",
       "    .dataframe tbody tr th {\n",
       "        vertical-align: top;\n",
       "    }\n",
       "\n",
       "    .dataframe thead th {\n",
       "        text-align: right;\n",
       "    }\n",
       "</style>\n",
       "<table border=\"1\" class=\"dataframe\">\n",
       "  <thead>\n",
       "    <tr style=\"text-align: right;\">\n",
       "      <th></th>\n",
       "      <th>M1</th>\n",
       "      <th>M2</th>\n",
       "      <th>M3</th>\n",
       "      <th>M4</th>\n",
       "      <th>M5</th>\n",
       "      <th>M6</th>\n",
       "      <th>M7</th>\n",
       "      <th>M8</th>\n",
       "      <th>M9</th>\n",
       "    </tr>\n",
       "  </thead>\n",
       "  <tbody>\n",
       "    <tr>\n",
       "      <th>0</th>\n",
       "      <td>T</td>\n",
       "      <td>T</td>\n",
       "      <td>T</td>\n",
       "      <td>M2</td>\n",
       "      <td>F</td>\n",
       "      <td>T</td>\n",
       "      <td>NaN</td>\n",
       "      <td>NaN</td>\n",
       "      <td>NaN</td>\n",
       "    </tr>\n",
       "    <tr>\n",
       "      <th>1</th>\n",
       "      <td>NaN</td>\n",
       "      <td>NaN</td>\n",
       "      <td>NaN</td>\n",
       "      <td>M0</td>\n",
       "      <td>T</td>\n",
       "      <td>T</td>\n",
       "      <td>NaN</td>\n",
       "      <td>NaN</td>\n",
       "      <td>NaN</td>\n",
       "    </tr>\n",
       "    <tr>\n",
       "      <th>2</th>\n",
       "      <td>T</td>\n",
       "      <td>T</td>\n",
       "      <td>T</td>\n",
       "      <td>M0</td>\n",
       "      <td>F</td>\n",
       "      <td>F</td>\n",
       "      <td>F</td>\n",
       "      <td>F</td>\n",
       "      <td>F</td>\n",
       "    </tr>\n",
       "    <tr>\n",
       "      <th>3</th>\n",
       "      <td>NaN</td>\n",
       "      <td>NaN</td>\n",
       "      <td>NaN</td>\n",
       "      <td>M0</td>\n",
       "      <td>T</td>\n",
       "      <td>F</td>\n",
       "      <td>NaN</td>\n",
       "      <td>NaN</td>\n",
       "      <td>NaN</td>\n",
       "    </tr>\n",
       "    <tr>\n",
       "      <th>4</th>\n",
       "      <td>NaN</td>\n",
       "      <td>NaN</td>\n",
       "      <td>NaN</td>\n",
       "      <td>NaN</td>\n",
       "      <td>NaN</td>\n",
       "      <td>NaN</td>\n",
       "      <td>NaN</td>\n",
       "      <td>NaN</td>\n",
       "      <td>NaN</td>\n",
       "    </tr>\n",
       "    <tr>\n",
       "      <th>...</th>\n",
       "      <td>...</td>\n",
       "      <td>...</td>\n",
       "      <td>...</td>\n",
       "      <td>...</td>\n",
       "      <td>...</td>\n",
       "      <td>...</td>\n",
       "      <td>...</td>\n",
       "      <td>...</td>\n",
       "      <td>...</td>\n",
       "    </tr>\n",
       "    <tr>\n",
       "      <th>590535</th>\n",
       "      <td>T</td>\n",
       "      <td>T</td>\n",
       "      <td>T</td>\n",
       "      <td>M0</td>\n",
       "      <td>T</td>\n",
       "      <td>F</td>\n",
       "      <td>F</td>\n",
       "      <td>F</td>\n",
       "      <td>T</td>\n",
       "    </tr>\n",
       "    <tr>\n",
       "      <th>590536</th>\n",
       "      <td>T</td>\n",
       "      <td>F</td>\n",
       "      <td>F</td>\n",
       "      <td>M0</td>\n",
       "      <td>F</td>\n",
       "      <td>T</td>\n",
       "      <td>F</td>\n",
       "      <td>F</td>\n",
       "      <td>F</td>\n",
       "    </tr>\n",
       "    <tr>\n",
       "      <th>590537</th>\n",
       "      <td>T</td>\n",
       "      <td>F</td>\n",
       "      <td>F</td>\n",
       "      <td>NaN</td>\n",
       "      <td>NaN</td>\n",
       "      <td>T</td>\n",
       "      <td>NaN</td>\n",
       "      <td>NaN</td>\n",
       "      <td>NaN</td>\n",
       "    </tr>\n",
       "    <tr>\n",
       "      <th>590538</th>\n",
       "      <td>T</td>\n",
       "      <td>T</td>\n",
       "      <td>T</td>\n",
       "      <td>M0</td>\n",
       "      <td>F</td>\n",
       "      <td>T</td>\n",
       "      <td>NaN</td>\n",
       "      <td>NaN</td>\n",
       "      <td>NaN</td>\n",
       "    </tr>\n",
       "    <tr>\n",
       "      <th>590539</th>\n",
       "      <td>T</td>\n",
       "      <td>F</td>\n",
       "      <td>F</td>\n",
       "      <td>NaN</td>\n",
       "      <td>NaN</td>\n",
       "      <td>T</td>\n",
       "      <td>F</td>\n",
       "      <td>F</td>\n",
       "      <td>F</td>\n",
       "    </tr>\n",
       "  </tbody>\n",
       "</table>\n",
       "<p>590540 rows × 9 columns</p>\n",
       "</div>"
      ],
      "text/plain": [
       "         M1   M2   M3   M4   M5   M6   M7   M8   M9\n",
       "0         T    T    T   M2    F    T  NaN  NaN  NaN\n",
       "1       NaN  NaN  NaN   M0    T    T  NaN  NaN  NaN\n",
       "2         T    T    T   M0    F    F    F    F    F\n",
       "3       NaN  NaN  NaN   M0    T    F  NaN  NaN  NaN\n",
       "4       NaN  NaN  NaN  NaN  NaN  NaN  NaN  NaN  NaN\n",
       "...     ...  ...  ...  ...  ...  ...  ...  ...  ...\n",
       "590535    T    T    T   M0    T    F    F    F    T\n",
       "590536    T    F    F   M0    F    T    F    F    F\n",
       "590537    T    F    F  NaN  NaN    T  NaN  NaN  NaN\n",
       "590538    T    T    T   M0    F    T  NaN  NaN  NaN\n",
       "590539    T    F    F  NaN  NaN    T    F    F    F\n",
       "\n",
       "[590540 rows x 9 columns]"
      ]
     },
     "execution_count": 11,
     "metadata": {},
     "output_type": "execute_result"
    }
   ],
   "source": [
    "columns_matchs = ['M1','M2','M3','M4','M5','M6','M7','M8','M9']\n",
    "values_matchs = train_df[columns_matchs]\n",
    "values_matchs"
   ]
  },
  {
   "cell_type": "markdown",
   "metadata": {},
   "source": [
    "### Explore class distribution"
   ]
  },
  {
   "cell_type": "code",
   "execution_count": 12,
   "metadata": {},
   "outputs": [
    {
     "data": {
      "image/png": "[encoded data removed]",
      "text/plain": [
       "<Figure size 400x400 with 1 Axes>"
      ]
     },
     "metadata": {},
     "output_type": "display_data"
    }
   ],
   "source": [
    "fraud_counts = train_df['isFraud'].value_counts()\n",
    "\n",
    "plt.figure(figsize=(4, 4))\n",
    "plt.pie(fraud_counts, labels=fraud_counts.index, autopct='%1.1f%%', startangle=90)\n",
    "plt.title('Distribution of Fraudulent Transactions', fontsize=16)\n",
    "\n",
    "plt.tight_layout()\n",
    "plt.show()"
   ]
  },
  {
   "cell_type": "markdown",
   "metadata": {},
   "source": [
    "## Dropping unnecessary columns"
   ]
  },
  {
   "cell_type": "markdown",
   "metadata": {},
   "source": [
    "### Drop features if correlation between them is more than 90%"
   ]
  },
  {
   "cell_type": "code",
   "execution_count": 13,
   "metadata": {},
   "outputs": [],
   "source": [
    "# Get categorical columns (excluding 'isFraud')\n",
    "categorical_cols = train_df.select_dtypes(include=['object', 'category']).columns.tolist()\n",
    "if 'isFraud' in categorical_cols:\n",
    "    categorical_cols.remove('isFraud')\n",
    "\n",
    "numerical_cols = [col for col in train_df.select_dtypes(include=['int64', 'float64']).columns \n",
    "                 if col not in categorical_cols]"
   ]
  },
  {
   "cell_type": "code",
   "execution_count": 14,
   "metadata": {},
   "outputs": [],
   "source": [
    "corr_matrix = train_df[numerical_cols].corr().abs()\n",
    "upper = corr_matrix.where(np.triu(np.ones(corr_matrix.shape), k=1).astype(bool))\n",
    "to_drop = [col for col in upper.columns if any(upper[col] > 0.9)]"
   ]
  },
  {
   "cell_type": "code",
   "execution_count": 15,
   "metadata": {},
   "outputs": [
    {
     "data": {
      "text/plain": [
       "196"
      ]
     },
     "execution_count": 15,
     "metadata": {},
     "output_type": "execute_result"
    }
   ],
   "source": [
    "len(to_drop)"
   ]
  },
  {
   "cell_type": "code",
   "execution_count": 16,
   "metadata": {},
   "outputs": [
    {
     "data": {
      "text/plain": [
       "(590540, 238)"
      ]
     },
     "execution_count": 16,
     "metadata": {},
     "output_type": "execute_result"
    }
   ],
   "source": [
    "train_df.drop(columns=to_drop, axis=1, inplace=True)\n",
    "train_df.shape"
   ]
  },
  {
   "cell_type": "markdown",
   "metadata": {},
   "source": [
    "### Drop features if 99% of it's values are the same"
   ]
  },
  {
   "cell_type": "code",
   "execution_count": 17,
   "metadata": {},
   "outputs": [],
   "source": [
    "from sklearn.feature_selection import VarianceThreshold\n",
    "\n",
    "numerical_cols = [col for col in numerical_cols if col not in to_drop]\n",
    "\n",
    "selector = VarianceThreshold(threshold=0.01)  # удаляем фичи с дисперсией < 1%\n",
    "selector.fit(train_df[numerical_cols])\n",
    "low_var_features = [col for col, var in zip(numerical_cols, selector.variances_) if var < 0.01]\n"
   ]
  },
  {
   "cell_type": "code",
   "execution_count": 18,
   "metadata": {},
   "outputs": [
    {
     "data": {
      "text/plain": [
       "19"
      ]
     },
     "execution_count": 18,
     "metadata": {},
     "output_type": "execute_result"
    }
   ],
   "source": [
    "len(low_var_features)"
   ]
  },
  {
   "cell_type": "code",
   "execution_count": 19,
   "metadata": {},
   "outputs": [
    {
     "data": {
      "text/plain": [
       "(590540, 219)"
      ]
     },
     "execution_count": 19,
     "metadata": {},
     "output_type": "execute_result"
    }
   ],
   "source": [
    "train_df.drop(columns=low_var_features, axis=1, inplace=True)\n",
    "train_df.shape"
   ]
  },
  {
   "cell_type": "markdown",
   "metadata": {},
   "source": [
    "### Get rid of numerical columns with close to 0 corelation with target"
   ]
  },
  {
   "cell_type": "code",
   "execution_count": 20,
   "metadata": {},
   "outputs": [],
   "source": [
    "numerical_cols = [col for col in numerical_cols if col not in low_var_features]\n",
    "\n",
    "# Calculate correlation with target\n",
    "corr_with_target = train_df[numerical_cols].corr()[[\"isFraud\"]].abs().sort_values(\"isFraud\", ascending=False)\n",
    "\n",
    "# Get low correlation features\n",
    "low_corr_features = corr_with_target[corr_with_target[\"isFraud\"] < 0.01].index.tolist()"
   ]
  },
  {
   "cell_type": "code",
   "execution_count": 21,
   "metadata": {},
   "outputs": [
    {
     "data": {
      "text/plain": [
       "32"
      ]
     },
     "execution_count": 21,
     "metadata": {},
     "output_type": "execute_result"
    }
   ],
   "source": [
    "len(low_corr_features)"
   ]
  },
  {
   "cell_type": "code",
   "execution_count": 22,
   "metadata": {},
   "outputs": [
    {
     "data": {
      "text/plain": [
       "(590540, 187)"
      ]
     },
     "execution_count": 22,
     "metadata": {},
     "output_type": "execute_result"
    }
   ],
   "source": [
    "train_df.drop(columns=low_corr_features, axis=1, inplace=True)\n",
    "train_df.shape"
   ]
  },
  {
   "cell_type": "markdown",
   "metadata": {},
   "source": [
    "## Get rid of Null values"
   ]
  },
  {
   "cell_type": "markdown",
   "metadata": {},
   "source": [
    "### Explore the data further and deduce the best approach"
   ]
  },
  {
   "cell_type": "markdown",
   "metadata": {},
   "source": [
    "How many collumns are useless and can be droped?"
   ]
  },
  {
   "cell_type": "code",
   "execution_count": 23,
   "metadata": {},
   "outputs": [
    {
     "data": {
      "image/png": "[encoded data removed]",
      "text/plain": [
       "<Figure size 600x400 with 1 Axes>"
      ]
     },
     "metadata": {},
     "output_type": "display_data"
    }
   ],
   "source": [
    "null_percentages = train_df.isnull().mean() * 100\n",
    "\n",
    "# Create bins for null percentages (e.g., 0-5%, 6-10%, etc.)\n",
    "bins = range(0, 101, 5)\n",
    "\n",
    "plt.figure(figsize=(6, 4))\n",
    "plt.hist(null_percentages, bins=bins, edgecolor='black', alpha=0.7, color='skyblue')\n",
    "\n",
    "plt.title('Distribution of Null Percentages', fontsize=16)\n",
    "plt.xlabel('Percentage of Null Values', fontsize=14)\n",
    "plt.ylabel('Number of Columns', fontsize=14)\n",
    "plt.xticks(bins) \n",
    "\n",
    "plt.tight_layout()\n",
    "plt.show()"
   ]
  },
  {
   "cell_type": "markdown",
   "metadata": {},
   "source": [
    "Are null values valuable for prediction or no? Show null values by class"
   ]
  },
  {
   "cell_type": "code",
   "execution_count": 24,
   "metadata": {},
   "outputs": [
    {
     "data": {
      "image/png": "[encoded data removed]",
      "text/plain": [
       "<Figure size 1200x600 with 1 Axes>"
      ]
     },
     "metadata": {},
     "output_type": "display_data"
    }
   ],
   "source": [
    "positive_df = train_df[train_df['isFraud'] == 1]\n",
    "negative_df = train_df[train_df['isFraud'] == 0]\n",
    "\n",
    "null_percent_positive = positive_df.isnull().mean() * 100\n",
    "null_percent_negative = negative_df.isnull().mean() * 100\n",
    "\n",
    "# Create a DataFrame for plotting\n",
    "null_percent_df = pd.DataFrame({\n",
    "    'Feature': null_percent_positive.index,\n",
    "    'Positive Class': null_percent_positive.values,\n",
    "    'Negative Class': null_percent_negative.values\n",
    "})\n",
    "\n",
    "# Melt the DataFrame for seaborn\n",
    "null_percent_df_melted = null_percent_df.melt(id_vars='Feature', var_name='Class', value_name='Null Percentage')\n",
    "\n",
    "# Plot\n",
    "plt.figure(figsize=(12, 6))\n",
    "sns.barplot(x='Feature', y='Null Percentage', hue='Class', data=null_percent_df_melted, palette='viridis')\n",
    "\n",
    "# Add labels and title\n",
    "plt.title('Percentage of Null Values by Feature and Class', fontsize=16)\n",
    "plt.xlabel('Features', fontsize=14)\n",
    "plt.ylabel('Percentage of Null Values', fontsize=14)\n",
    "plt.xticks(rotation=45, ha='right')  # Rotate x-axis labels for better readability\n",
    "plt.legend(title='Class')\n",
    "plt.tight_layout()\n",
    "plt.show()"
   ]
  },
  {
   "cell_type": "markdown",
   "metadata": {},
   "source": [
    "If in a category there are a lot of null values and the percentage of null values is similar across both classes, then drop."
   ]
  },
  {
   "cell_type": "code",
   "execution_count": 25,
   "metadata": {},
   "outputs": [
    {
     "name": "stdout",
     "output_type": "stream",
     "text": [
      "Columns dropped: ['D4', 'M5', 'V35', 'V37', 'V38', 'V39', 'V44', 'V46', 'V47', 'V138', 'V139', 'V141', 'V142', 'V144', 'V146', 'V148', 'V161', 'V162', 'V165', 'V166', 'V338', 'id_07', 'id_08', 'id_14', 'id_21', 'id_22', 'id_23', 'id_25', 'id_26', 'id_27', 'id_30', 'id_32', 'id_33', 'id_34']\n",
      "Cleaned DataFrame Shape: (590540, 153)\n"
     ]
    }
   ],
   "source": [
    "high_null_threshold = 25  # Drop columns with >25% null values\n",
    "similarity_threshold = 5  # Null percentages by class differ by <= 5%\n",
    "\n",
    "# Identify columns to drop\n",
    "columns_to_drop = []\n",
    "for col in train_df.columns:\n",
    "    if col == 'isFraud':  # Skip the target column\n",
    "        continue\n",
    "    if (null_percent_positive[col] > high_null_threshold and\n",
    "        null_percent_negative[col] > high_null_threshold and\n",
    "        abs(null_percent_positive[col] - null_percent_negative[col]) <= similarity_threshold):\n",
    "        columns_to_drop.append(col)\n",
    "\n",
    "# Drop the identified columns\n",
    "train_df_cleaned = train_df.drop(columns=columns_to_drop)\n",
    "\n",
    "# Print the results\n",
    "print(\"Columns dropped:\", columns_to_drop)\n",
    "print(\"Cleaned DataFrame Shape:\", train_df_cleaned.shape)"
   ]
  },
  {
   "cell_type": "markdown",
   "metadata": {},
   "source": [
    "**Null Value Handling Strategy:**\n",
    "\n",
    "- **Categorical columns:**  \n",
    "  If null % differs significantly between fraud/non-fraud → Replaces nulls with `\"Unknown\"`  \n",
    "  Otherwise → Fills with mode (most frequent category)  \n",
    "\n",
    "- **Numerical columns:**  \n",
    "  If `0` **not** present in data → Replaces nulls with `0`  \n",
    "  If `0` exists → Replaces nulls with median  \n",
    "  If null % difference >40% → Adds `{column}_isnull` flag (1=was null)  \n",
    "\n",
    "- **No significant difference:**  \n",
    "  Categorical → Mode imputation  \n",
    "  Numerical → Median imputation  "
   ]
  },
  {
   "cell_type": "code",
   "execution_count": 26,
   "metadata": {},
   "outputs": [],
   "source": [
    "newclass_percentage = 0.2\n",
    "\n",
    "positive_class = train_df_cleaned[train_df['isFraud'] == 1]\n",
    "negative_class = train_df_cleaned[train_df['isFraud'] == 0]\n",
    "\n",
    "null_percent_positive = positive_class.isnull().mean() * 100\n",
    "null_percent_negative = negative_class.isnull().mean() * 100\n",
    "\n",
    "# Prepare a list for new flag columns\n",
    "new_flag_columns = []\n",
    "\n",
    "# Iterate through each column\n",
    "for col in train_df_cleaned.columns:\n",
    "    if col == 'isFraud': \n",
    "        continue\n",
    "\n",
    "    diff = abs(null_percent_positive[col] - null_percent_negative[col])\n",
    "    max_null = max(null_percent_positive[col], null_percent_negative[col])\n",
    "    \n",
    "     # Decision 1: If null% difference is significant (>20%) and nulls are frequent (>5%)\n",
    "    if diff > newclass_percentage * max_null and max_null > 5:  \n",
    "\n",
    "        # Case 1A: Handle categorical columns (strings/categories)\n",
    "        if train_df_cleaned[col].dtype == 'object' or train_df_cleaned[col].dtype.name == 'category':  \n",
    "            # Replace nulls with \"Unknown\" (treat missingness as a new category)\n",
    "            train_df_cleaned[col] = train_df_cleaned[col].fillna(\"Unknown\")  \n",
    "\n",
    "        # Case 1B: Handle numeric columns\n",
    "        elif np.issubdtype(train_df_cleaned[col].dtype, np.number):  \n",
    "            # If 0 is not a valid value, use it for imputation (e.g., for amounts)\n",
    "            if 0 not in train_df_cleaned[col].unique():  \n",
    "                train_df_cleaned[col] = train_df_cleaned[col].fillna(0)  \n",
    "            else:  \n",
    "                # Otherwise, use median (robust to outliers)\n",
    "                median_value = train_df_cleaned[col].median()  \n",
    "                train_df_cleaned[col] = train_df_cleaned[col].fillna(median_value)  \n",
    "\n",
    "                # Decision 2: If null% difference is VERY significant (>40%), add a null flag\n",
    "                if diff > 0.4 * max_null:  \n",
    "                    # Track binary flag (1=was null, 0=not null)\n",
    "                    new_flag_columns.append(train_df_cleaned[col].isnull().astype(int).rename(f'{col}_isnull'))  \n",
    "\n",
    "    # Decision 3: If null% difference is NOT significant, use simple imputation\n",
    "    else:  \n",
    "        # Categorical: Fill with mode (most frequent category)\n",
    "        if train_df_cleaned[col].dtype == 'object' or train_df_cleaned[col].dtype.name == 'category':  \n",
    "            mode_value = train_df_cleaned[col].mode()[0]  \n",
    "            train_df_cleaned[col] = train_df_cleaned[col].fillna(mode_value)  \n",
    "        # Numeric: Fill with median\n",
    "        elif np.issubdtype(train_df_cleaned[col].dtype, np.number):  \n",
    "            median_value = train_df_cleaned[col].median()  \n",
    "            train_df_cleaned[col] = train_df_cleaned[col].fillna(median_value)  \n",
    "\n",
    "# Add all flag columns at once\n",
    "if new_flag_columns:\n",
    "    train_df_cleaned = pd.concat([train_df_cleaned] + new_flag_columns, axis=1)"
   ]
  },
  {
   "cell_type": "markdown",
   "metadata": {},
   "source": [
    "Check that all null values have been successfully removed."
   ]
  },
  {
   "cell_type": "code",
   "execution_count": 27,
   "metadata": {},
   "outputs": [
    {
     "name": "stdout",
     "output_type": "stream",
     "text": [
      "Series([], dtype: int64)\n"
     ]
    }
   ],
   "source": [
    "# Print columns with null values and their counts\n",
    "null_counts = train_df_cleaned.isnull().sum()\n",
    "print(null_counts[null_counts > 0])"
   ]
  },
  {
   "cell_type": "markdown",
   "metadata": {},
   "source": [
    "NEW X STRUCTURE:"
   ]
  },
  {
   "cell_type": "code",
   "execution_count": 28,
   "metadata": {},
   "outputs": [
    {
     "data": {
      "text/plain": [
       "(590540, 173)"
      ]
     },
     "execution_count": 28,
     "metadata": {},
     "output_type": "execute_result"
    }
   ],
   "source": [
    "train_df_cleaned.shape"
   ]
  },
  {
   "cell_type": "code",
   "execution_count": 29,
   "metadata": {},
   "outputs": [],
   "source": [
    "X = train_df_cleaned.drop('isFraud', axis=1)\n",
    "y = train_df_cleaned['isFraud']"
   ]
  },
  {
   "cell_type": "markdown",
   "metadata": {},
   "source": [
    "## Encoding Categorical features\n",
    "\n",
    "From Kaggle's data description, categorical features are grouped as follows:\n",
    "\n",
    "### Transaction Data\n",
    "\n",
    "| Feature Type       | Columns                      |\n",
    "|--------------------|-----------------------------|\n",
    "| Product Code       | `ProductCD`                 |\n",
    "| Card Information   | `card1` to `card6`          |\n",
    "| Address Fields     | `addr1`, `addr2`            |\n",
    "| Email Domains      | `P_emaildomain`, `R_emaildomain` |\n",
    "| Transaction Flags  | `M1` to `M9`                |\n",
    "\n",
    "### Identity Data\n",
    "\n",
    "| Feature Type       | Columns                      |\n",
    "|--------------------|-----------------------------|\n",
    "| Device Information | `DeviceType`, `DeviceInfo`  |\n",
    "| ID Fields          | `id_12` to `id_38`          |"
   ]
  },
  {
   "cell_type": "markdown",
   "metadata": {},
   "source": [
    "Encode categorical features"
   ]
  },
  {
   "cell_type": "code",
   "execution_count": 30,
   "metadata": {},
   "outputs": [
    {
     "data": {
      "text/plain": [
       "(590540, 172)"
      ]
     },
     "execution_count": 30,
     "metadata": {},
     "output_type": "execute_result"
    }
   ],
   "source": [
    "X.shape"
   ]
  },
  {
   "cell_type": "code",
   "execution_count": 31,
   "metadata": {},
   "outputs": [
    {
     "name": "stdout",
     "output_type": "stream",
     "text": [
      "ProductCD: 5 categories\n",
      "card4: 4 categories\n",
      "card6: 4 categories\n",
      "P_emaildomain: 59 categories\n",
      "R_emaildomain: 61 categories\n",
      "M1: 3 categories\n",
      "M2: 3 categories\n",
      "M3: 3 categories\n",
      "M4: 4 categories\n",
      "M6: 3 categories\n",
      "M7: 3 categories\n",
      "M8: 3 categories\n",
      "M9: 3 categories\n",
      "id_12: 3 categories\n",
      "id_15: 3 categories\n",
      "id_16: 3 categories\n",
      "id_28: 3 categories\n",
      "id_29: 3 categories\n",
      "id_31: 131 categories\n",
      "id_35: 3 categories\n",
      "id_36: 3 categories\n",
      "id_37: 3 categories\n",
      "id_38: 3 categories\n",
      "DeviceType: 3 categories\n",
      "DeviceInfo: 1787 categories\n"
     ]
    }
   ],
   "source": [
    "# Identify categorical columns\n",
    "categorical_cols = X.select_dtypes(include=['object', 'category']).columns\n",
    "\n",
    "for column in categorical_cols:\n",
    "    num_categories = len(X[column].unique())  \n",
    "    print(f\"{column}: {num_categories} categories\")"
   ]
  },
  {
   "cell_type": "markdown",
   "metadata": {},
   "source": [
    "Some columns have too many categories, because of this we need to encode values differently depending on the size"
   ]
  },
  {
   "cell_type": "markdown",
   "metadata": {},
   "source": [
    "Let's first figure out if some columns do not corelate with target value, hence are useless and can be dropped"
   ]
  },
  {
   "cell_type": "code",
   "execution_count": 32,
   "metadata": {},
   "outputs": [
    {
     "name": "stdout",
     "output_type": "stream",
     "text": [
      "Target Encoding Columns: ['R_emaildomain', 'id_31']\n",
      "One-Hot Encoding Columns: ['ProductCD', 'card6', 'M4', 'M6', 'id_12', 'id_15', 'id_16', 'id_28', 'id_29', 'id_35', 'id_36', 'id_37', 'id_38', 'DeviceType']\n",
      "Drop Columns: ['card4', 'P_emaildomain', 'M1', 'M2', 'M3', 'M7', 'M8', 'M9', 'DeviceInfo']\n"
     ]
    }
   ],
   "source": [
    "import pandas as pd\n",
    "import numpy as np\n",
    "import scipy.stats as stats\n",
    "\n",
    "def categorize_categorical_features(X, y, categorical_cols, \n",
    "                                  p_threshold=0.05, cramers_threshold=0.1, \n",
    "                                  max_onehot=6, max_target=1000):\n",
    "    \"\"\"\n",
    "    Categorizes categorical features into:\n",
    "    - target_encoding_cols: High-cardinality significant features\n",
    "    - onehot_cols: Low-cardinality significant features\n",
    "    - drop_cols: Insignificant or ultra-high-cardinality features\n",
    "    \n",
    "    Parameters:\n",
    "    - X: Features DataFrame\n",
    "    - y: Target Series\n",
    "    - categorical_cols: List of categorical columns in X\n",
    "    - p_threshold: Chi-Square p-value threshold\n",
    "    - cramers_threshold: Cramér's V effect size threshold\n",
    "    - max_onehot: Max unique values for one-hot encoding\n",
    "    - max_target: Max unique values for target encoding\n",
    "    \"\"\"\n",
    "    target_encoding_cols = []\n",
    "    onehot_cols = []\n",
    "    drop_cols = []\n",
    "    \n",
    "    for col in categorical_cols:\n",
    "        unique_count = X[col].nunique()\n",
    "        \n",
    "        # Skip ultra-high cardinality features\n",
    "        if unique_count > max_target:\n",
    "            drop_cols.append(col)\n",
    "            continue\n",
    "            \n",
    "        # Create contingency table\n",
    "        contingency_table = pd.crosstab(X[col], y)\n",
    "        \n",
    "        # Chi-Square Test\n",
    "        try:\n",
    "            chi2, p, _, _ = stats.chi2_contingency(contingency_table)\n",
    "            n = contingency_table.sum().sum()\n",
    "            cramers_v = np.sqrt(chi2 / (n * (min(contingency_table.shape) - 1)))\n",
    "        except:\n",
    "            p = 1  # Treat as insignificant if test fails\n",
    "            cramers_v = 0\n",
    "            \n",
    "        # Categorize the feature\n",
    "        if p >= p_threshold or cramers_v < cramers_threshold:\n",
    "            drop_cols.append(col)\n",
    "        elif unique_count <= max_onehot:\n",
    "            onehot_cols.append(col)\n",
    "        else:\n",
    "            target_encoding_cols.append(col)\n",
    "    \n",
    "    return {\n",
    "        'target_encoding': target_encoding_cols,\n",
    "        'onehot': onehot_cols,\n",
    "        'drop': drop_cols\n",
    "    }\n",
    "\n",
    "# Usage example\n",
    "result = categorize_categorical_features(X, y, categorical_cols)\n",
    "\n",
    "print(\"Target Encoding Columns:\", result['target_encoding'])\n",
    "print(\"One-Hot Encoding Columns:\", result['onehot'])\n",
    "print(\"Drop Columns:\", result['drop'])"
   ]
  },
  {
   "cell_type": "code",
   "execution_count": 33,
   "metadata": {},
   "outputs": [
    {
     "name": "stdout",
     "output_type": "stream",
     "text": [
      "   TransactionID  TransactionAmt  card1  card3  card5  addr2  dist1  dist2  \\\n",
      "0        2987000            68.5  13926  150.0  142.0   87.0   19.0   37.0   \n",
      "1        2987001            29.0   2755  150.0  102.0   87.0    8.0   37.0   \n",
      "2        2987002            59.0   4663  150.0  166.0   87.0  287.0   37.0   \n",
      "3        2987003            50.0  18132  150.0  117.0   87.0    8.0   37.0   \n",
      "4        2987004            50.0   4497  150.0  102.0   87.0    8.0   37.0   \n",
      "\n",
      "   R_emaildomain   C1  ...  id_35_T  id_35_Unknown  id_36_T  id_36_Unknown  \\\n",
      "0       0.020819  1.0  ...      0.0            1.0      0.0            1.0   \n",
      "1       0.020819  1.0  ...      0.0            1.0      0.0            1.0   \n",
      "2       0.020819  1.0  ...      0.0            1.0      0.0            1.0   \n",
      "3       0.020819  2.0  ...      0.0            1.0      0.0            1.0   \n",
      "4       0.020819  1.0  ...      1.0            0.0      0.0            0.0   \n",
      "\n",
      "   id_37_T  id_37_Unknown  id_38_T  id_38_Unknown  DeviceType_desktop  \\\n",
      "0      0.0            1.0      0.0            1.0                 0.0   \n",
      "1      0.0            1.0      0.0            1.0                 0.0   \n",
      "2      0.0            1.0      0.0            1.0                 0.0   \n",
      "3      0.0            1.0      0.0            1.0                 0.0   \n",
      "4      1.0            0.0      1.0            0.0                 0.0   \n",
      "\n",
      "   DeviceType_mobile  \n",
      "0                0.0  \n",
      "1                0.0  \n",
      "2                0.0  \n",
      "3                0.0  \n",
      "4                1.0  \n",
      "\n",
      "[5 rows x 181 columns]\n"
     ]
    }
   ],
   "source": [
    "from sklearn.preprocessing import OneHotEncoder\n",
    "from category_encoders import TargetEncoder\n",
    "\n",
    "# Get the column lists\n",
    "target_cols = result['target_encoding']\n",
    "onehot_cols = result['onehot']\n",
    "drop_cols = result['drop']\n",
    "\n",
    "# 1. Drop insignificant columns\n",
    "X = X.drop(columns=drop_cols)\n",
    "\n",
    "# 2. Apply One-Hot Encoding to low-cardinality features\n",
    "if onehot_cols:\n",
    "    ohe = OneHotEncoder(sparse_output=False, drop='first')\n",
    "    onehot_encoded = ohe.fit_transform(X[onehot_cols])\n",
    "    onehot_df = pd.DataFrame(onehot_encoded, \n",
    "                            columns=ohe.get_feature_names_out(onehot_cols),\n",
    "                            index=X.index)\n",
    "    X = pd.concat([X.drop(columns=onehot_cols), onehot_df], axis=1)\n",
    "\n",
    "# 3. Apply Target Encoding to high-cardinality features\n",
    "if target_cols:\n",
    "    te = TargetEncoder(cols=target_cols)\n",
    "    X = te.fit_transform(X, y)\n",
    "\n",
    "print(X.head())"
   ]
  },
  {
   "cell_type": "code",
   "execution_count": null,
   "metadata": {},
   "outputs": [
    {
     "data": {
      "text/plain": [
       "(590540, 181)"
      ]
     },
     "execution_count": 34,
     "metadata": {},
     "output_type": "execute_result"
    }
   ],
   "source": [
    "X.shape"
   ]
  },
  {
   "cell_type": "markdown",
   "metadata": {},
   "source": [
    "## Scale features"
   ]
  },
  {
   "cell_type": "code",
   "execution_count": 35,
   "metadata": {},
   "outputs": [
    {
     "name": "stdout",
     "output_type": "stream",
     "text": [
      "Non-numeric columns: []\n"
     ]
    }
   ],
   "source": [
    "# Find non-numeric columns in your training data\n",
    "non_numeric_cols = X.select_dtypes(include=['object', 'category']).columns\n",
    "print(\"Non-numeric columns:\", non_numeric_cols.tolist())"
   ]
  },
  {
   "cell_type": "code",
   "execution_count": 36,
   "metadata": {},
   "outputs": [],
   "source": [
    "from sklearn.compose import ColumnTransformer\n",
    "from sklearn.preprocessing import StandardScaler\n",
    "\n",
    "# Auto-detect numerical columns\n",
    "numerical_cols = X.select_dtypes(include=['int64', 'float64']).columns.tolist()\n",
    "\n",
    "# Convert all to float to prevent warnings\n",
    "X[numerical_cols] = X[numerical_cols].astype('float64')\n",
    "\n",
    "preprocessor = ColumnTransformer(\n",
    "    transformers=[\n",
    "        ('scaler', StandardScaler(), numerical_cols)\n",
    "    ],\n",
    "    remainder='passthrough'\n",
    ")\n",
    "\n",
    "X_scaled = pd.DataFrame(\n",
    "    preprocessor.fit_transform(X),\n",
    "    columns=numerical_cols + [col for col in X.columns if col not in numerical_cols],\n",
    "    index=X.index\n",
    ")"
   ]
  },
  {
   "cell_type": "code",
   "execution_count": 37,
   "metadata": {},
   "outputs": [],
   "source": [
    "X_train, X_test, y_train, y_test = train_test_split(\n",
    "    X_scaled, y, test_size=0.3, stratify=y, random_state=42\n",
    ")"
   ]
  },
  {
   "cell_type": "code",
   "execution_count": 38,
   "metadata": {},
   "outputs": [],
   "source": [
    "from sklearn.decomposition import PCA\n",
    "from sklearn.preprocessing import OrdinalEncoder\n",
    "\n",
    "\n",
    "def train_models(X_train, y_train):\n",
    "    # Class weights for imbalance\n",
    "    fraud_ratio = y_train.mean()\n",
    "    class_weight = {0: 1, 1: (1 - fraud_ratio)/fraud_ratio}\n",
    "    \n",
    "    \n",
    "    models = {\n",
    "        'RandomForest': Pipeline([\n",
    "            ('model', RandomForestClassifier(\n",
    "                class_weight=class_weight,\n",
    "                n_jobs=-1,\n",
    "                random_state=42))\n",
    "        ]),\n",
    "        # 'GradientBoosting': Pipeline([\n",
    "        #     ('model', GradientBoostingClassifier(random_state=42))\n",
    "        # ]),\n",
    "    #     'SVM': Pipeline([\n",
    "    #     ('pca', PCA(n_components=0.95)),  # Keep 95% variance\n",
    "    #     ('svm', SVC(\n",
    "    #         class_weight='balanced',\n",
    "    #         kernel='rbf',\n",
    "    #         C=1.0,\n",
    "    #         gamma='scale',\n",
    "    #         probability=True,\n",
    "    #         random_state=42))\n",
    "    # ])\n",
    "    }\n",
    "    \n",
    "    # Train all models\n",
    "    trained_models = {}\n",
    "    for name, pipeline in models.items():\n",
    "        print(f\"Training {name}...\")\n",
    "        pipeline.fit(X_train, y_train)\n",
    "        trained_models[name] = pipeline\n",
    "    return trained_models"
   ]
  },
  {
   "cell_type": "code",
   "execution_count": 39,
   "metadata": {},
   "outputs": [],
   "source": [
    "def evaluate_models(models, X_test, y_test):\n",
    "    results = {}\n",
    "    for name, model in models.items():\n",
    "        # Get predictions\n",
    "        y_pred = model.predict(X_test)\n",
    "        y_prob = model.predict_proba(X_test)[:, 1]\n",
    "        \n",
    "        # Store metrics\n",
    "        results[name] = {\n",
    "            'classification_report': classification_report(y_test, y_pred),\n",
    "            'confusion_matrix': confusion_matrix(y_test, y_pred),\n",
    "            'roc_auc': roc_auc_score(y_test, y_prob),\n",
    "            'average_precision': average_precision_score(y_test, y_prob)\n",
    "        }\n",
    "        \n",
    "        # Print summary\n",
    "        print(f\"\\n{name} Performance:\")\n",
    "        print(f\"ROC AUC: {results[name]['roc_auc']:.4f}\")\n",
    "        print(f\"Avg Precision: {results[name]['average_precision']:.4f}\")\n",
    "        print(\"Confusion Matrix:\")\n",
    "        print(results[name]['confusion_matrix'])\n",
    "    \n",
    "    return results"
   ]
  },
  {
   "cell_type": "code",
   "execution_count": 40,
   "metadata": {},
   "outputs": [
    {
     "name": "stdout",
     "output_type": "stream",
     "text": [
      "\n",
      "Training models...\n",
      "Training RandomForest...\n",
      "\n",
      "Evaluating models...\n",
      "\n",
      "RandomForest Performance:\n",
      "ROC AUC: 0.9348\n",
      "Avg Precision: 0.7453\n",
      "Confusion Matrix:\n",
      "[[170824    139]\n",
      " [  3423   2776]]\n"
     ]
    }
   ],
   "source": [
    "# 3. Train models\n",
    "print(\"\\nTraining models...\")\n",
    "trained_models = train_models(X_train, y_train)\n",
    "\n",
    "# 4. Evaluate models\n",
    "print(\"\\nEvaluating models...\")\n",
    "results = evaluate_models(trained_models, X_test, y_test)"
   ]
  },
  {
   "cell_type": "code",
   "execution_count": 41,
   "metadata": {},
   "outputs": [
    {
     "data": {
      "text/plain": [
       "['models.joblib']"
      ]
     },
     "execution_count": 41,
     "metadata": {},
     "output_type": "execute_result"
    }
   ],
   "source": [
    "from joblib import dump\n",
    "\n",
    "# Save variables\n",
    "dump(\n",
    "    {\n",
    "        'X_train': X_train,\n",
    "        'y_train': y_train,\n",
    "        'X_test': X_test,\n",
    "        'y_test': y_test\n",
    "    },\n",
    "    'train_test_data.joblib'\n",
    ")\n",
    "\n",
    "dump(trained_models, 'models.joblib')"
   ]
  }
 ],
 "metadata": {
  "kernelspec": {
   "display_name": "Python 3",
   "language": "python",
   "name": "python3"
  },
  "language_info": {
   "codemirror_mode": {
    "name": "ipython",
    "version": 3
   },
   "file_extension": ".py",
   "mimetype": "text/x-python",
   "name": "python",
   "nbconvert_exporter": "python",
   "pygments_lexer": "ipython3",
   "version": "3.12.3"
  }
 },
 "nbformat": 4,
 "nbformat_minor": 2
}
